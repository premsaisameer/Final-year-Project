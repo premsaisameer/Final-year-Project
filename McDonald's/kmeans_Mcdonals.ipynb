{
 "cells": [
  {
   "cell_type": "code",
   "execution_count": 19,
   "metadata": {},
   "outputs": [],
   "source": [
    "#Import libraries\n",
    "import numpy as np\n",
    "import pandas as pd\n",
    "import matplotlib.pyplot as plt\n",
    "from sklearn.cluster import KMeans"
   ]
  },
  {
   "cell_type": "code",
   "execution_count": 20,
   "metadata": {},
   "outputs": [],
   "source": [
    "DATA = pd.read_csv(\"DATA.csv\")"
   ]
  },
  {
   "cell_type": "code",
   "execution_count": 21,
   "metadata": {},
   "outputs": [
    {
     "name": "stdout",
     "output_type": "stream",
     "text": [
      "<class 'pandas.core.frame.DataFrame'>\n",
      "RangeIndex: 259 entries, 0 to 258\n",
      "Data columns (total 18 columns):\n",
      " #   Column             Non-Null Count  Dtype  \n",
      "---  ------             --------------  -----  \n",
      " 0   Category           259 non-null    object \n",
      " 1   Item               259 non-null    object \n",
      " 2   Serving Size       259 non-null    object \n",
      " 3   Serving Size Conv  259 non-null    float64\n",
      " 4   Calories           259 non-null    int64  \n",
      " 5   Calories from Fat  259 non-null    int64  \n",
      " 6   Total Fat          259 non-null    float64\n",
      " 7   Saturated Fat      259 non-null    float64\n",
      " 8   Trans Fat          259 non-null    float64\n",
      " 9   Cholesterol        259 non-null    int64  \n",
      " 10  Carbohydrates      259 non-null    int64  \n",
      " 11  Dietary Fiber      259 non-null    int64  \n",
      " 12  Protein            259 non-null    int64  \n",
      " 13  vitamin A          259 non-null    int64  \n",
      " 14  Vitamin C          259 non-null    float64\n",
      " 15  Calcium            259 non-null    int64  \n",
      " 16  Iron               259 non-null    float64\n",
      " 17  Sodium             259 non-null    int64  \n",
      "dtypes: float64(6), int64(9), object(3)\n",
      "memory usage: 36.5+ KB\n"
     ]
    }
   ],
   "source": [
    "DATA.info()"
   ]
  },
  {
   "cell_type": "code",
   "execution_count": 22,
   "metadata": {
    "scrolled": true
   },
   "outputs": [
    {
     "data": {
      "text/plain": [
       "Index(['Category', 'Item', 'Serving Size', 'Serving Size Conv', 'Calories',\n",
       "       'Calories from Fat', 'Total Fat', 'Saturated Fat', 'Trans Fat',\n",
       "       'Cholesterol', 'Carbohydrates', 'Dietary Fiber', 'Protein', 'vitamin A',\n",
       "       'Vitamin C', 'Calcium', 'Iron', 'Sodium'],\n",
       "      dtype='object')"
      ]
     },
     "execution_count": 22,
     "metadata": {},
     "output_type": "execute_result"
    }
   ],
   "source": [
    "DATA.columns\n"
   ]
  },
  {
   "cell_type": "code",
   "execution_count": 23,
   "metadata": {},
   "outputs": [],
   "source": [
    "DATA = pd.read_csv(\"DATA.csv\")\n",
    "DATA.describe()\n",
    "DATA[\"Cholesterol\"] = DATA[\"Cholesterol\"]/1000        #.apply(lambda x : x/1000)\n",
    "DATA[\"vitamin A\"] = DATA[\"vitamin A\"]/1000\n",
    "DATA[\"Vitamin C\"] = DATA[\"Vitamin C\"]/1000\n",
    "DATA[\"Calcium\"] = DATA[\"Calcium\"]/1000\n",
    "DATA[\"Sodium\"] = DATA[\"Sodium\"]/1000\n"
   ]
  },
  {
   "cell_type": "code",
   "execution_count": 24,
   "metadata": {
    "scrolled": true
   },
   "outputs": [
    {
     "data": {
      "text/html": [
       "<div>\n",
       "<style scoped>\n",
       "    .dataframe tbody tr th:only-of-type {\n",
       "        vertical-align: middle;\n",
       "    }\n",
       "\n",
       "    .dataframe tbody tr th {\n",
       "        vertical-align: top;\n",
       "    }\n",
       "\n",
       "    .dataframe thead th {\n",
       "        text-align: right;\n",
       "    }\n",
       "</style>\n",
       "<table border=\"1\" class=\"dataframe\">\n",
       "  <thead>\n",
       "    <tr style=\"text-align: right;\">\n",
       "      <th></th>\n",
       "      <th>Category</th>\n",
       "      <th>Item</th>\n",
       "      <th>Serving Size</th>\n",
       "      <th>Serving Size Conv</th>\n",
       "      <th>Calories</th>\n",
       "      <th>Calories from Fat</th>\n",
       "      <th>Total Fat</th>\n",
       "      <th>Saturated Fat</th>\n",
       "      <th>Trans Fat</th>\n",
       "      <th>Cholesterol</th>\n",
       "      <th>Carbohydrates</th>\n",
       "      <th>Dietary Fiber</th>\n",
       "      <th>Protein</th>\n",
       "      <th>vitamin A</th>\n",
       "      <th>Vitamin C</th>\n",
       "      <th>Calcium</th>\n",
       "      <th>Iron</th>\n",
       "      <th>Sodium</th>\n",
       "    </tr>\n",
       "  </thead>\n",
       "  <tbody>\n",
       "    <tr>\n",
       "      <th>0</th>\n",
       "      <td>Breakfast</td>\n",
       "      <td>Egg McMuffin</td>\n",
       "      <td>4.8 oz (136 g)</td>\n",
       "      <td>136.0</td>\n",
       "      <td>300</td>\n",
       "      <td>120</td>\n",
       "      <td>13.0</td>\n",
       "      <td>5.0</td>\n",
       "      <td>0.0</td>\n",
       "      <td>0.260</td>\n",
       "      <td>31</td>\n",
       "      <td>4</td>\n",
       "      <td>17</td>\n",
       "      <td>0.090</td>\n",
       "      <td>0.0</td>\n",
       "      <td>0.25</td>\n",
       "      <td>2.70</td>\n",
       "      <td>0.75</td>\n",
       "    </tr>\n",
       "    <tr>\n",
       "      <th>1</th>\n",
       "      <td>Breakfast</td>\n",
       "      <td>Egg White Delight</td>\n",
       "      <td>4.8 oz (135 g)</td>\n",
       "      <td>135.0</td>\n",
       "      <td>250</td>\n",
       "      <td>70</td>\n",
       "      <td>8.0</td>\n",
       "      <td>3.0</td>\n",
       "      <td>0.0</td>\n",
       "      <td>0.025</td>\n",
       "      <td>30</td>\n",
       "      <td>4</td>\n",
       "      <td>18</td>\n",
       "      <td>0.054</td>\n",
       "      <td>0.0</td>\n",
       "      <td>0.25</td>\n",
       "      <td>1.44</td>\n",
       "      <td>0.77</td>\n",
       "    </tr>\n",
       "    <tr>\n",
       "      <th>2</th>\n",
       "      <td>Breakfast</td>\n",
       "      <td>Sausage McMuffin</td>\n",
       "      <td>3.9 oz (111 g)</td>\n",
       "      <td>111.0</td>\n",
       "      <td>370</td>\n",
       "      <td>200</td>\n",
       "      <td>23.0</td>\n",
       "      <td>8.0</td>\n",
       "      <td>0.0</td>\n",
       "      <td>0.045</td>\n",
       "      <td>29</td>\n",
       "      <td>4</td>\n",
       "      <td>14</td>\n",
       "      <td>0.072</td>\n",
       "      <td>0.0</td>\n",
       "      <td>0.25</td>\n",
       "      <td>1.80</td>\n",
       "      <td>0.78</td>\n",
       "    </tr>\n",
       "    <tr>\n",
       "      <th>3</th>\n",
       "      <td>Breakfast</td>\n",
       "      <td>Sausage McMuffin with Egg</td>\n",
       "      <td>5.7 oz (161 g)</td>\n",
       "      <td>161.0</td>\n",
       "      <td>450</td>\n",
       "      <td>250</td>\n",
       "      <td>28.0</td>\n",
       "      <td>10.0</td>\n",
       "      <td>0.0</td>\n",
       "      <td>0.285</td>\n",
       "      <td>30</td>\n",
       "      <td>4</td>\n",
       "      <td>21</td>\n",
       "      <td>0.135</td>\n",
       "      <td>0.0</td>\n",
       "      <td>0.30</td>\n",
       "      <td>2.70</td>\n",
       "      <td>0.86</td>\n",
       "    </tr>\n",
       "    <tr>\n",
       "      <th>4</th>\n",
       "      <td>Breakfast</td>\n",
       "      <td>Sausage McMuffin with Egg Whites</td>\n",
       "      <td>5.7 oz (161 g)</td>\n",
       "      <td>161.0</td>\n",
       "      <td>400</td>\n",
       "      <td>210</td>\n",
       "      <td>23.0</td>\n",
       "      <td>8.0</td>\n",
       "      <td>0.0</td>\n",
       "      <td>0.050</td>\n",
       "      <td>30</td>\n",
       "      <td>4</td>\n",
       "      <td>21</td>\n",
       "      <td>0.054</td>\n",
       "      <td>0.0</td>\n",
       "      <td>0.25</td>\n",
       "      <td>1.80</td>\n",
       "      <td>0.88</td>\n",
       "    </tr>\n",
       "    <tr>\n",
       "      <th>...</th>\n",
       "      <td>...</td>\n",
       "      <td>...</td>\n",
       "      <td>...</td>\n",
       "      <td>...</td>\n",
       "      <td>...</td>\n",
       "      <td>...</td>\n",
       "      <td>...</td>\n",
       "      <td>...</td>\n",
       "      <td>...</td>\n",
       "      <td>...</td>\n",
       "      <td>...</td>\n",
       "      <td>...</td>\n",
       "      <td>...</td>\n",
       "      <td>...</td>\n",
       "      <td>...</td>\n",
       "      <td>...</td>\n",
       "      <td>...</td>\n",
       "      <td>...</td>\n",
       "    </tr>\n",
       "    <tr>\n",
       "      <th>254</th>\n",
       "      <td>Smoothies &amp; Shakes</td>\n",
       "      <td>McFlurry with Oreo Cookies (Small)</td>\n",
       "      <td>10.1 oz (285 g)</td>\n",
       "      <td>285.0</td>\n",
       "      <td>510</td>\n",
       "      <td>150</td>\n",
       "      <td>17.0</td>\n",
       "      <td>9.0</td>\n",
       "      <td>0.5</td>\n",
       "      <td>0.045</td>\n",
       "      <td>80</td>\n",
       "      <td>1</td>\n",
       "      <td>12</td>\n",
       "      <td>0.135</td>\n",
       "      <td>0.0</td>\n",
       "      <td>0.40</td>\n",
       "      <td>1.44</td>\n",
       "      <td>0.28</td>\n",
       "    </tr>\n",
       "    <tr>\n",
       "      <th>255</th>\n",
       "      <td>Smoothies &amp; Shakes</td>\n",
       "      <td>McFlurry with Oreo Cookies (Medium)</td>\n",
       "      <td>13.4 oz (381 g)</td>\n",
       "      <td>381.0</td>\n",
       "      <td>690</td>\n",
       "      <td>200</td>\n",
       "      <td>23.0</td>\n",
       "      <td>12.0</td>\n",
       "      <td>1.0</td>\n",
       "      <td>0.055</td>\n",
       "      <td>106</td>\n",
       "      <td>1</td>\n",
       "      <td>15</td>\n",
       "      <td>0.180</td>\n",
       "      <td>0.0</td>\n",
       "      <td>0.50</td>\n",
       "      <td>1.80</td>\n",
       "      <td>0.38</td>\n",
       "    </tr>\n",
       "    <tr>\n",
       "      <th>256</th>\n",
       "      <td>Smoothies &amp; Shakes</td>\n",
       "      <td>McFlurry with Oreo Cookies (Snack)</td>\n",
       "      <td>6.7 oz (190 g)</td>\n",
       "      <td>190.0</td>\n",
       "      <td>340</td>\n",
       "      <td>100</td>\n",
       "      <td>11.0</td>\n",
       "      <td>6.0</td>\n",
       "      <td>0.0</td>\n",
       "      <td>0.030</td>\n",
       "      <td>53</td>\n",
       "      <td>1</td>\n",
       "      <td>8</td>\n",
       "      <td>0.090</td>\n",
       "      <td>0.0</td>\n",
       "      <td>0.25</td>\n",
       "      <td>1.08</td>\n",
       "      <td>0.19</td>\n",
       "    </tr>\n",
       "    <tr>\n",
       "      <th>257</th>\n",
       "      <td>Smoothies &amp; Shakes</td>\n",
       "      <td>McFlurry with Reese's Peanut Butter Cups (Medium)</td>\n",
       "      <td>14.2 oz (403 g)</td>\n",
       "      <td>403.0</td>\n",
       "      <td>810</td>\n",
       "      <td>290</td>\n",
       "      <td>32.0</td>\n",
       "      <td>15.0</td>\n",
       "      <td>1.0</td>\n",
       "      <td>0.060</td>\n",
       "      <td>114</td>\n",
       "      <td>2</td>\n",
       "      <td>21</td>\n",
       "      <td>0.180</td>\n",
       "      <td>0.0</td>\n",
       "      <td>0.60</td>\n",
       "      <td>1.08</td>\n",
       "      <td>0.40</td>\n",
       "    </tr>\n",
       "    <tr>\n",
       "      <th>258</th>\n",
       "      <td>Smoothies &amp; Shakes</td>\n",
       "      <td>McFlurry with Reese's Peanut Butter Cups (Snack)</td>\n",
       "      <td>7.1 oz (202 g)</td>\n",
       "      <td>202.0</td>\n",
       "      <td>410</td>\n",
       "      <td>150</td>\n",
       "      <td>16.0</td>\n",
       "      <td>8.0</td>\n",
       "      <td>0.0</td>\n",
       "      <td>0.030</td>\n",
       "      <td>57</td>\n",
       "      <td>1</td>\n",
       "      <td>10</td>\n",
       "      <td>0.090</td>\n",
       "      <td>0.0</td>\n",
       "      <td>0.30</td>\n",
       "      <td>0.72</td>\n",
       "      <td>0.20</td>\n",
       "    </tr>\n",
       "  </tbody>\n",
       "</table>\n",
       "<p>259 rows × 18 columns</p>\n",
       "</div>"
      ],
      "text/plain": [
       "               Category                                               Item  \\\n",
       "0             Breakfast                                       Egg McMuffin   \n",
       "1             Breakfast                                  Egg White Delight   \n",
       "2             Breakfast                                   Sausage McMuffin   \n",
       "3             Breakfast                          Sausage McMuffin with Egg   \n",
       "4             Breakfast                   Sausage McMuffin with Egg Whites   \n",
       "..                  ...                                                ...   \n",
       "254  Smoothies & Shakes                 McFlurry with Oreo Cookies (Small)   \n",
       "255  Smoothies & Shakes                McFlurry with Oreo Cookies (Medium)   \n",
       "256  Smoothies & Shakes                 McFlurry with Oreo Cookies (Snack)   \n",
       "257  Smoothies & Shakes  McFlurry with Reese's Peanut Butter Cups (Medium)   \n",
       "258  Smoothies & Shakes   McFlurry with Reese's Peanut Butter Cups (Snack)   \n",
       "\n",
       "        Serving Size  Serving Size Conv  Calories  Calories from Fat  \\\n",
       "0     4.8 oz (136 g)              136.0       300                120   \n",
       "1     4.8 oz (135 g)              135.0       250                 70   \n",
       "2     3.9 oz (111 g)              111.0       370                200   \n",
       "3     5.7 oz (161 g)              161.0       450                250   \n",
       "4     5.7 oz (161 g)              161.0       400                210   \n",
       "..               ...                ...       ...                ...   \n",
       "254  10.1 oz (285 g)              285.0       510                150   \n",
       "255  13.4 oz (381 g)              381.0       690                200   \n",
       "256   6.7 oz (190 g)              190.0       340                100   \n",
       "257  14.2 oz (403 g)              403.0       810                290   \n",
       "258   7.1 oz (202 g)              202.0       410                150   \n",
       "\n",
       "     Total Fat  Saturated Fat  Trans Fat  Cholesterol  Carbohydrates  \\\n",
       "0         13.0            5.0        0.0        0.260             31   \n",
       "1          8.0            3.0        0.0        0.025             30   \n",
       "2         23.0            8.0        0.0        0.045             29   \n",
       "3         28.0           10.0        0.0        0.285             30   \n",
       "4         23.0            8.0        0.0        0.050             30   \n",
       "..         ...            ...        ...          ...            ...   \n",
       "254       17.0            9.0        0.5        0.045             80   \n",
       "255       23.0           12.0        1.0        0.055            106   \n",
       "256       11.0            6.0        0.0        0.030             53   \n",
       "257       32.0           15.0        1.0        0.060            114   \n",
       "258       16.0            8.0        0.0        0.030             57   \n",
       "\n",
       "     Dietary Fiber  Protein  vitamin A  Vitamin C  Calcium  Iron  Sodium  \n",
       "0                4       17      0.090        0.0     0.25  2.70    0.75  \n",
       "1                4       18      0.054        0.0     0.25  1.44    0.77  \n",
       "2                4       14      0.072        0.0     0.25  1.80    0.78  \n",
       "3                4       21      0.135        0.0     0.30  2.70    0.86  \n",
       "4                4       21      0.054        0.0     0.25  1.80    0.88  \n",
       "..             ...      ...        ...        ...      ...   ...     ...  \n",
       "254              1       12      0.135        0.0     0.40  1.44    0.28  \n",
       "255              1       15      0.180        0.0     0.50  1.80    0.38  \n",
       "256              1        8      0.090        0.0     0.25  1.08    0.19  \n",
       "257              2       21      0.180        0.0     0.60  1.08    0.40  \n",
       "258              1       10      0.090        0.0     0.30  0.72    0.20  \n",
       "\n",
       "[259 rows x 18 columns]"
      ]
     },
     "execution_count": 24,
     "metadata": {},
     "output_type": "execute_result"
    }
   ],
   "source": [
    "DATA"
   ]
  },
  {
   "cell_type": "code",
   "execution_count": 25,
   "metadata": {},
   "outputs": [],
   "source": [
    "#Breakfast\n",
    "\n",
    "breakfast_menu = data[data[\"Category\"] == 'Breakfast']\n",
    "x = breakfast_menu.iloc[:,3:].values"
   ]
  },
  {
   "cell_type": "code",
   "execution_count": 26,
   "metadata": {},
   "outputs": [
    {
     "data": {
      "image/png": "[encoded data removed]",
      "text/plain": [
       "<Figure size 432x288 with 1 Axes>"
      ]
     },
     "metadata": {
      "needs_background": "light"
     },
     "output_type": "display_data"
    },
    {
     "data": {
      "text/plain": [
       "<Figure size 432x288 with 0 Axes>"
      ]
     },
     "metadata": {},
     "output_type": "display_data"
    }
   ],
   "source": [
    "Error =[]\n",
    "for i in range(1, 11):\n",
    "    kmeans = KMeans(n_clusters = i).fit(x)\n",
    "    kmeans.fit(x)\n",
    "    Error.append(kmeans.inertia_)\n",
    "import matplotlib.pyplot as plt\n",
    "plt.plot(range(1, 11), Error)\n",
    "plt.title('Elbow method')\n",
    "plt.xlabel('No of clusters')\n",
    "plt.ylabel('Error')\n",
    "plt.show()\n",
    "plt.savefig(\"elbow method\")"
   ]
  },
  {
   "cell_type": "markdown",
   "metadata": {},
   "source": [
    "As you can see, the optimal value of k is between 2 and 4, as the elbow-like shape is formed at k=3 in the above graph.\n",
    "Let’s implement k-means again using k=3"
   ]
  },
  {
   "cell_type": "code",
   "execution_count": 27,
   "metadata": {},
   "outputs": [
    {
     "name": "stdout",
     "output_type": "stream",
     "text": [
      "[0 0 0 0 0 0 2 2 2 2 2 2 2 2 2 2 2 2 2 2 2 2 2 2 2 2 2 2 1 2 2 1 1 1 1 0 0\n",
      " 0 0 0 0 0]\n"
     ]
    },
    {
     "data": {
      "text/plain": [
       "array([[ 1.55000000e+02,  3.48461538e+02,  1.40384615e+02,\n",
       "         1.56153846e+01,  5.57692308e+00,  7.69230769e-02,\n",
       "         9.03846154e+01,  3.96923077e+01,  3.53846154e+00,\n",
       "         1.30000000e+01,  5.40000000e+01,  1.22769231e+01,\n",
       "         1.74615385e+02,  2.21538462e+00,  6.35769231e+02],\n",
       "       [ 3.99400000e+02,  1.01600000e+03,  4.76000000e+02,\n",
       "         5.28000000e+01,  1.78000000e+01, -1.38777878e-17,\n",
       "         3.63000000e+02,  1.01600000e+02,  6.00000000e+00,\n",
       "         3.40000000e+01,  8.82000000e+01,  1.20000000e+00,\n",
       "         2.40000000e+02,  6.12000000e+00,  2.11000000e+03],\n",
       "       [ 1.84833333e+02,  5.21250000e+02,  2.60416667e+02,\n",
       "         2.90000000e+01,  1.19166667e+01,  1.45833333e-01,\n",
       "         1.42916667e+02,  4.44166667e+01,  2.54166667e+00,\n",
       "         2.06250000e+01,  6.15000000e+01,  2.45000000e+00,\n",
       "         1.38333333e+02,  2.92500000e+00,  1.33541667e+03]])"
      ]
     },
     "execution_count": 27,
     "metadata": {},
     "output_type": "execute_result"
    }
   ],
   "source": [
    "kmeans3 = KMeans(n_clusters=3)\n",
    "y_kmeans3 = kmeans3.fit_predict(x)\n",
    "print(y_kmeans3)\n",
    "\n",
    "kmeans3.cluster_centers_"
   ]
  },
  {
   "cell_type": "code",
   "execution_count": 28,
   "metadata": {},
   "outputs": [
    {
     "data": {
      "image/png": "[encoded data removed]",
      "text/plain": [
       "<Figure size 432x288 with 1 Axes>"
      ]
     },
     "metadata": {
      "needs_background": "light"
     },
     "output_type": "display_data"
    }
   ],
   "source": [
    "plt.scatter(x[:,-1],x[:,1],c= y_kmeans3)\n",
    "plt.xlabel(\"Sodium\")\n",
    "plt.ylabel(\"Calories\")\n",
    "plt.title(\"Clustering on Breakfast items\")\n",
    "plt.savefig(\"Clustering on Breakfast items\")"
   ]
  },
  {
   "cell_type": "code",
   "execution_count": 29,
   "metadata": {},
   "outputs": [],
   "source": [
    "#Main menu\n",
    "\n",
    "main_menu = data[(data[\"Category\"] == 'Chicken & Fish') | (data[\"Category\"] == 'Beef & Pork') \n",
    "                 |(data[\"Category\"] == 'Salads')]\n",
    "x = main_menu.iloc[:,3:].values"
   ]
  },
  {
   "cell_type": "code",
   "execution_count": 30,
   "metadata": {},
   "outputs": [
    {
     "data": {
      "image/png": "[encoded data removed]",
      "text/plain": [
       "<Figure size 432x288 with 1 Axes>"
      ]
     },
     "metadata": {
      "needs_background": "light"
     },
     "output_type": "display_data"
    }
   ],
   "source": [
    "Error =[]\n",
    "for i in range(1, 11):\n",
    "    kmeans = KMeans(n_clusters = i).fit(x)\n",
    "    kmeans.fit(x)\n",
    "    Error.append(kmeans.inertia_)\n",
    "import matplotlib.pyplot as plt\n",
    "plt.plot(range(1, 11), Error)\n",
    "plt.title('Elbow method')\n",
    "plt.xlabel('No of clusters')\n",
    "plt.ylabel('Error')\n",
    "plt.show()"
   ]
  },
  {
   "cell_type": "code",
   "execution_count": 31,
   "metadata": {},
   "outputs": [
    {
     "name": "stdout",
     "output_type": "stream",
     "text": [
      "[2 1 1 1 2 1 2 2 2 1 2 2 2 2 2 2 2 1 1 1 1 1 1 2 2 1 1 2 1 1 1 1 1 1 1 1 2\n",
      " 2 2 1 2 0 0 0 0 0 0]\n"
     ]
    },
    {
     "data": {
      "text/plain": [
       "array([[2.72000000e+02, 2.70000000e+02, 1.08333333e+02, 1.17500000e+01,\n",
       "        3.75000000e+00, 5.55111512e-17, 5.16666667e+01, 2.16666667e+01,\n",
       "        4.50000000e+00, 1.98333333e+01, 1.32000000e+03, 1.70000000e+01,\n",
       "        1.50000000e+02, 1.86000000e+00, 5.88333333e+02],\n",
       "       [2.64045455e+02, 5.86818182e+02, 2.52272727e+02, 2.80909091e+01,\n",
       "        8.63636364e+00, 5.00000000e-01, 8.88636364e+01, 5.07272727e+01,\n",
       "        3.22727273e+00, 3.31818182e+01, 2.36454545e+02, 9.87272727e+00,\n",
       "        2.09090909e+02, 3.72272727e+00, 1.36045455e+03],\n",
       "       [1.59052632e+02, 3.97368421e+02, 1.73684211e+02, 1.92105263e+01,\n",
       "        5.97368421e+00, 4.21052632e-01, 5.92105263e+01, 3.64736842e+01,\n",
       "        2.10526316e+00, 1.99473684e+01, 3.69473684e+01, 2.33684211e+00,\n",
       "        1.54736842e+02, 2.95578947e+00, 8.28421053e+02]])"
      ]
     },
     "execution_count": 31,
     "metadata": {},
     "output_type": "execute_result"
    }
   ],
   "source": [
    "kmeans3 = KMeans(n_clusters=3)\n",
    "y_kmeans3 = kmeans3.fit_predict(x)\n",
    "print(y_kmeans3)\n",
    "\n",
    "kmeans3.cluster_centers_"
   ]
  },
  {
   "cell_type": "code",
   "execution_count": 32,
   "metadata": {},
   "outputs": [
    {
     "data": {
      "image/png": "[encoded data removed]",
      "text/plain": [
       "<Figure size 432x288 with 1 Axes>"
      ]
     },
     "metadata": {
      "needs_background": "light"
     },
     "output_type": "display_data"
    }
   ],
   "source": [
    "plt.scatter(x[:,-1],x[:,1],c= y_kmeans3)\n",
    "plt.xlabel(\"Sodium\")\n",
    "plt.ylabel(\"Calories\")\n",
    "plt.title(\"Clustering on Main menu items\")\n",
    "plt.savefig(\"Clustering on Main menu items\")"
   ]
  },
  {
   "cell_type": "code",
   "execution_count": 33,
   "metadata": {},
   "outputs": [],
   "source": [
    "#Bevarages or drinks \n",
    "\n",
    "bevarages_menu = data[(data[\"Category\"] == 'Coffee & Tea') | (data[\"Category\"] == 'Smoothies & Shakes') \n",
    "               | (data[\"Category\"] == 'Beverages')]\n",
    "x = bevarages_menu.iloc[:,3:].values"
   ]
  },
  {
   "cell_type": "code",
   "execution_count": 34,
   "metadata": {},
   "outputs": [
    {
     "data": {
      "image/png": "[encoded data removed]",
      "text/plain": [
       "<Figure size 432x288 with 1 Axes>"
      ]
     },
     "metadata": {
      "needs_background": "light"
     },
     "output_type": "display_data"
    },
    {
     "data": {
      "text/plain": [
       "<Figure size 432x288 with 0 Axes>"
      ]
     },
     "metadata": {},
     "output_type": "display_data"
    }
   ],
   "source": [
    "Error =[]\n",
    "for i in range(1, 11):\n",
    "    kmeans = KMeans(n_clusters = i).fit(x)\n",
    "    kmeans.fit(x)\n",
    "    Error.append(kmeans.inertia_)\n",
    "import matplotlib.pyplot as plt\n",
    "plt.plot(range(1, 11), Error)\n",
    "plt.title('Elbow method')\n",
    "plt.xlabel('No of clusters')\n",
    "plt.ylabel('Error')\n",
    "plt.show()\n",
    "plt.savefig(\"elbow2\")"
   ]
  },
  {
   "cell_type": "code",
   "execution_count": 36,
   "metadata": {},
   "outputs": [
    {
     "name": "stdout",
     "output_type": "stream",
     "text": [
      "[1 1 1 1 1 1 1 1 1 1 1 1 1 1 1 1 1 1 1 1 0 0 1 1 1 1 1 1 1 1 1 1 1 1 1 1 1\n",
      " 1 0 0 0 0 0 2 0 0 2 0 0 2 0 0 0 0 0 0 0 0 0 0 0 0 0 0 0 0 0 0 0 0 2 0 0 0\n",
      " 0 0 2 0 0 0 0 2 2 0 0 2 1 1 1 1 1 1 1 1 1 1 1 1 1 1 1 0 0 2 0 0 0 0 0 2 0\n",
      " 0 0 0 2 2 0 2 2 2 2 2 1 1 1 1 1 1 1 1 1 2 2 2 2 2 2 2 2 2 2 2 2 2 0 2 2 0\n",
      " 2 0]\n"
     ]
    },
    {
     "data": {
      "text/plain": [
       "array([[ 4.29706140e+02,  2.83508772e+02,  5.85964912e+01,\n",
       "         6.64035088e+00,  3.92982456e+00,  4.38596491e-02,\n",
       "         2.27192982e+01,  4.50175439e+01,  1.07017544e+00,\n",
       "         1.12280702e+01,  1.12105263e+02,  4.21052632e-02,\n",
       "         3.58771930e+02,  4.67368421e-01,  1.62456140e+02],\n",
       "       [ 5.76627833e+02,  1.42333333e+02,  1.60833333e+01,\n",
       "         1.83333333e+00,  1.15000000e+00,  2.77555756e-17,\n",
       "         7.00000000e+00,  3.13166667e+01,  4.33333333e-01,\n",
       "         1.20000000e+00,  2.85000000e+01,  8.25000000e+00,\n",
       "         2.90000000e+01,  6.60000000e-02,  3.93333333e+01],\n",
       "       [ 5.16358485e+02,  6.12727273e+02,  1.83181818e+02,\n",
       "         2.03484848e+01,  1.24393939e+01,  7.87878788e-01,\n",
       "         6.51515152e+01,  9.37878788e+01,  8.78787879e-01,\n",
       "         1.42424242e+01,  1.81363636e+02, -2.22044605e-15,\n",
       "         4.68181818e+02,  8.34545455e-01,  2.31666667e+02]])"
      ]
     },
     "execution_count": 36,
     "metadata": {},
     "output_type": "execute_result"
    }
   ],
   "source": [
    "kmeans3 = KMeans(n_clusters=3)\n",
    "y_kmeans3 = kmeans3.fit_predict(x)\n",
    "print(y_kmeans3)\n",
    "\n",
    "kmeans3.cluster_centers_"
   ]
  },
  {
   "cell_type": "code",
   "execution_count": 37,
   "metadata": {},
   "outputs": [
    {
     "data": {
      "image/png": "[encoded data removed]",
      "text/plain": [
       "<Figure size 432x288 with 1 Axes>"
      ]
     },
     "metadata": {
      "needs_background": "light"
     },
     "output_type": "display_data"
    }
   ],
   "source": [
    "plt.scatter(x[:,-1],x[:,1],c= y_kmeans3)\n",
    "plt.xlabel(\"Sodium\")\n",
    "plt.ylabel(\"Calories\")\n",
    "plt.title(\"Clustering on Bevarages menu items\")\n",
    "plt.savefig(\"Clustering on Bevarages menu items\")"
   ]
  },
  {
   "cell_type": "code",
   "execution_count": 38,
   "metadata": {},
   "outputs": [],
   "source": [
    "#Extras or Side dishes or snacks\n",
    "extras_menu = data[(data[\"Category\"] == 'Desserts') | (data[\"Category\"] == 'Snacks & Sides')]\n",
    "x = extras_menu.iloc[:,3:].values"
   ]
  },
  {
   "cell_type": "code",
   "execution_count": 39,
   "metadata": {},
   "outputs": [
    {
     "data": {
      "image/png": "[encoded data removed]",
      "text/plain": [
       "<Figure size 432x288 with 1 Axes>"
      ]
     },
     "metadata": {
      "needs_background": "light"
     },
     "output_type": "display_data"
    }
   ],
   "source": [
    "Error =[]\n",
    "for i in range(1, 11):\n",
    "    kmeans = KMeans(n_clusters = i).fit(x)\n",
    "    kmeans.fit(x)\n",
    "    Error.append(kmeans.inertia_)\n",
    "import matplotlib.pyplot as plt\n",
    "plt.plot(range(1, 11), Error)\n",
    "plt.title('Elbow method')\n",
    "plt.xlabel('No of clusters')\n",
    "plt.ylabel('Error')\n",
    "plt.show()"
   ]
  },
  {
   "cell_type": "code",
   "execution_count": 40,
   "metadata": {},
   "outputs": [
    {
     "name": "stdout",
     "output_type": "stream",
     "text": [
      "[1 1 1 1 1 1 0 2 2 0 0 0 0 2 0 0 0 2 2 2]\n"
     ]
    },
    {
     "data": {
      "text/plain": [
       "array([[5.97500000e+01, 1.10000000e+02, 3.75000000e+01, 4.18750000e+00,\n",
       "        1.31250000e+00, 0.00000000e+00, 3.75000000e+00, 1.66250000e+01,\n",
       "        8.75000000e-01, 1.62500000e+00, 5.96250000e+01, 1.83750000e+01,\n",
       "        2.75000000e+01, 6.30000000e-01, 6.50000000e+01],\n",
       "       [1.23500000e+02, 3.03333333e+02, 1.16666667e+02, 1.31666667e+01,\n",
       "        4.25000000e+00, 0.00000000e+00, 3.91666667e+01, 3.08333333e+01,\n",
       "        1.00000000e+00, 1.51666667e+01, 2.40000000e+01, 6.00000000e-01,\n",
       "        1.00000000e+02, 1.80000000e+00, 7.31666667e+02],\n",
       "       [1.49166667e+02, 3.41666667e+02, 1.13333333e+02, 1.26666667e+01,\n",
       "        4.83333333e+00, 0.00000000e+00, 1.33333333e+01, 5.08333333e+01,\n",
       "        2.33333333e+00, 5.50000000e+00, 4.50000000e+01, 1.44000000e+01,\n",
       "        1.26666667e+02, 7.80000000e-01, 1.75833333e+02]])"
      ]
     },
     "execution_count": 40,
     "metadata": {},
     "output_type": "execute_result"
    }
   ],
   "source": [
    "kmeans3 = KMeans(n_clusters=3)\n",
    "y_kmeans3 = kmeans3.fit_predict(x)\n",
    "print(y_kmeans3)\n",
    "\n",
    "kmeans3.cluster_centers_"
   ]
  },
  {
   "cell_type": "code",
   "execution_count": 41,
   "metadata": {},
   "outputs": [
    {
     "data": {
      "image/png": "[encoded data removed]",
      "text/plain": [
       "<Figure size 432x288 with 1 Axes>"
      ]
     },
     "metadata": {
      "needs_background": "light"
     },
     "output_type": "display_data"
    }
   ],
   "source": [
    "plt.scatter(x[:,-1],x[:,1],c= y_kmeans3)\n",
    "plt.xlabel(\"Sodium\")\n",
    "plt.ylabel(\"Calories\")\n",
    "plt.title(\"Clustering on Side dishes menu items\")\n",
    "plt.savefig(\"Clustering on side dishes.png\")"
   ]
  },
  {
   "cell_type": "code",
   "execution_count": null,
   "metadata": {},
   "outputs": [],
   "source": []
  }
 ],
 "metadata": {
  "kernelspec": {
   "display_name": "Python 3",
   "language": "python",
   "name": "python3"
  },
  "language_info": {
   "codemirror_mode": {
    "name": "ipython",
    "version": 3
   },
   "file_extension": ".py",
   "mimetype": "text/x-python",
   "name": "python",
   "nbconvert_exporter": "python",
   "pygments_lexer": "ipython3",
   "version": "3.8.3"
  },
  "toc": {
   "base_numbering": 1,
   "nav_menu": {},
   "number_sections": true,
   "sideBar": true,
   "skip_h1_title": false,
   "title_cell": "Table of Contents",
   "title_sidebar": "Contents",
   "toc_cell": false,
   "toc_position": {},
   "toc_section_display": true,
   "toc_window_display": false
  },
  "varInspector": {
   "cols": {
    "lenName": 16,
    "lenType": 16,
    "lenVar": 40
   },
   "kernels_config": {
    "python": {
     "delete_cmd_postfix": "",
     "delete_cmd_prefix": "del ",
     "library": "var_list.py",
     "varRefreshCmd": "print(var_dic_list())"
    },
    "r": {
     "delete_cmd_postfix": ") ",
     "delete_cmd_prefix": "rm(",
     "library": "var_list.r",
     "varRefreshCmd": "cat(var_dic_list()) "
    }
   },
   "types_to_exclude": [
    "module",
    "function",
    "builtin_function_or_method",
    "instance",
    "_Feature"
   ],
   "window_display": false
  }
 },
 "nbformat": 4,
 "nbformat_minor": 4
}
